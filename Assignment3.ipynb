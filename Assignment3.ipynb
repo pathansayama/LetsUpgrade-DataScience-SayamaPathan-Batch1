{
  "nbformat": 4,
  "nbformat_minor": 0,
  "metadata": {
    "colab": {
      "name": "Untitled",
      "provenance": [],
      "authorship_tag": "ABX9TyPhM73LAJ5w3w7RlBiVTcUE",
      "include_colab_link": true
    },
    "kernelspec": {
      "name": "python3",
      "display_name": "Python 3"
    }
  },
  "cells": [
    {
      "cell_type": "markdown",
      "metadata": {
        "id": "view-in-github",
        "colab_type": "text"
      },
      "source": [
        "<a href=\"https://colab.research.google.com/github/pathansayama/LetsUpgrade-DataScience-SayamaPathan-Batch1/blob/main/Assignment3.ipynb\" target=\"_parent\"><img src=\"https://colab.research.google.com/assets/colab-badge.svg\" alt=\"Open In Colab\"/></a>"
      ]
    },
    {
      "cell_type": "markdown",
      "metadata": {
        "id": "wqISBEE2pPc3"
      },
      "source": [
        "**Assignment 3**"
      ]
    },
    {
      "cell_type": "markdown",
      "metadata": {
        "id": "rjzhnoZcrWoo"
      },
      "source": [
        "1.Create a numpy array starting from 2 till 50 with a stepsize of 3."
      ]
    },
    {
      "cell_type": "code",
      "metadata": {
        "id": "Bzj2NZopolqk",
        "outputId": "080081c8-e6ab-4637-fa71-ba78cb19bf20",
        "colab": {
          "base_uri": "https://localhost:8080/"
        }
      },
      "source": [
        "import numpy as np\n",
        "# Start = 2, Stop = 50, Step Size = 3\n",
        "\n",
        "array_np = np.arange(2, 50, 3)\n",
        "print(array_np)"
      ],
      "execution_count": null,
      "outputs": [
        {
          "output_type": "stream",
          "text": [
            "[ 2  5  8 11 14 17 20 23 26 29 32 35 38 41 44 47]\n"
          ],
          "name": "stdout"
        }
      ]
    },
    {
      "cell_type": "markdown",
      "metadata": {
        "id": "PAAMGIpDtO1z"
      },
      "source": [
        "2."
      ]
    },
    {
      "cell_type": "code",
      "metadata": {
        "id": "c-8GJUp7tROu",
        "outputId": "5137f12b-b882-46ce-83ae-d69d22c5ca5e",
        "colab": {
          "base_uri": "https://localhost:8080/",
          "height": 360
        }
      },
      "source": [
        "import numpy\n",
        "\n",
        "lst1= input(\"List1=\")\n",
        "lst2= input(\"List2=\")\n",
        "\n",
        "a = numpy.asarray(lst1)\n",
        "b = numpy.asarray(lst2)\n",
        "\n",
        "print(\"Array1: \", a)\n",
        "print(\"Array2: \", b)\n",
        "\n",
        "numpy.concatenate((a,b),axis=0)\n"
      ],
      "execution_count": null,
      "outputs": [
        {
          "output_type": "stream",
          "text": [
            "List1=12,4,8\n",
            "List2=3,5\n",
            "Array1:  12,4,8\n",
            "Array2:  3,5\n"
          ],
          "name": "stdout"
        },
        {
          "output_type": "error",
          "ename": "ValueError",
          "evalue": "ignored",
          "traceback": [
            "\u001b[0;31m---------------------------------------------------------------------------\u001b[0m",
            "\u001b[0;31mValueError\u001b[0m                                Traceback (most recent call last)",
            "\u001b[0;32m<ipython-input-23-6411067ac0d1>\u001b[0m in \u001b[0;36m<module>\u001b[0;34m()\u001b[0m\n\u001b[1;32m     10\u001b[0m \u001b[0mprint\u001b[0m\u001b[0;34m(\u001b[0m\u001b[0;34m\"Array2: \"\u001b[0m\u001b[0;34m,\u001b[0m \u001b[0mb\u001b[0m\u001b[0;34m)\u001b[0m\u001b[0;34m\u001b[0m\u001b[0;34m\u001b[0m\u001b[0m\n\u001b[1;32m     11\u001b[0m \u001b[0;34m\u001b[0m\u001b[0m\n\u001b[0;32m---> 12\u001b[0;31m \u001b[0mnumpy\u001b[0m\u001b[0;34m.\u001b[0m\u001b[0mconcatenate\u001b[0m\u001b[0;34m(\u001b[0m\u001b[0;34m(\u001b[0m\u001b[0ma\u001b[0m\u001b[0;34m,\u001b[0m\u001b[0mb\u001b[0m\u001b[0;34m)\u001b[0m\u001b[0;34m,\u001b[0m\u001b[0maxis\u001b[0m\u001b[0;34m=\u001b[0m\u001b[0;36m0\u001b[0m\u001b[0;34m)\u001b[0m\u001b[0;34m\u001b[0m\u001b[0;34m\u001b[0m\u001b[0m\n\u001b[0m",
            "\u001b[0;32m<__array_function__ internals>\u001b[0m in \u001b[0;36mconcatenate\u001b[0;34m(*args, **kwargs)\u001b[0m\n",
            "\u001b[0;31mValueError\u001b[0m: zero-dimensional arrays cannot be concatenated"
          ]
        }
      ]
    },
    {
      "cell_type": "markdown",
      "metadata": {
        "id": "-VAnhZGr5r2I"
      },
      "source": [
        "3."
      ]
    },
    {
      "cell_type": "code",
      "metadata": {
        "id": "A46hvwKz6Ens",
        "outputId": "4a30ea90-514b-400e-b6bb-ee0287f2e84c",
        "colab": {
          "base_uri": "https://localhost:8080/"
        }
      },
      "source": [
        "\n",
        "import numpy as np\n",
        " \n",
        "a1 = np.array( [[ 1, 2, 3],\n",
        "              [ 4, 2, 5]] )\n",
        "print(\"No. of dimensions: \", a1.ndim)\n",
        " \n",
        "print(\"Size of array: \", a1.size)"
      ],
      "execution_count": null,
      "outputs": [
        {
          "output_type": "stream",
          "text": [
            "No. of dimensions:  2\n",
            "Size of array:  6\n"
          ],
          "name": "stdout"
        }
      ]
    },
    {
      "cell_type": "markdown",
      "metadata": {
        "id": "QopzotPT97z3"
      },
      "source": [
        "4."
      ]
    },
    {
      "cell_type": "code",
      "metadata": {
        "id": "iK3FWWCA9-cB",
        "outputId": "97312346-a052-4f42-fef0-f9e643d5d02d",
        "colab": {
          "base_uri": "https://localhost:8080/"
        }
      },
      "source": [
        "import numpy as np\n",
        "a = np.arange(6)\n",
        "a2 = a[np.newaxis, :]\n",
        "a2.shape"
      ],
      "execution_count": 25,
      "outputs": [
        {
          "output_type": "execute_result",
          "data": {
            "text/plain": [
              "(1, 6)"
            ]
          },
          "metadata": {
            "tags": []
          },
          "execution_count": 25
        }
      ]
    },
    {
      "cell_type": "markdown",
      "metadata": {
        "id": "jBZ8ksr1-T9u"
      },
      "source": [
        "5."
      ]
    },
    {
      "cell_type": "code",
      "metadata": {
        "id": "SjsPJKnC-Vyj",
        "outputId": "771c542e-dab3-4e20-82fd-9fdb8a3c27b2",
        "colab": {
          "base_uri": "https://localhost:8080/"
        }
      },
      "source": [
        "import numpy as np \n",
        "  \n",
        "a = np.array([[10, 20], \n",
        "              [30, 40]]) \n",
        "  \n",
        "b = np.array([[50, 60], \n",
        "              [70, 80]]) \n",
        "print(\"Vertical Stacking:\\n\", np.vstack((a, b))) \n",
        "print(\"\\nHorizontal Stacking:\\n\", np.hstack((a, b))) "
      ],
      "execution_count": 26,
      "outputs": [
        {
          "output_type": "stream",
          "text": [
            "Vertical Stacking:\n",
            " [[10 20]\n",
            " [30 40]\n",
            " [50 60]\n",
            " [70 80]]\n",
            "\n",
            "Horizontal Stacking:\n",
            " [[10 20 50 60]\n",
            " [30 40 70 80]]\n"
          ],
          "name": "stdout"
        }
      ]
    },
    {
      "cell_type": "markdown",
      "metadata": {
        "id": "WNLbTfBi_Ubg"
      },
      "source": [
        "6."
      ]
    },
    {
      "cell_type": "code",
      "metadata": {
        "id": "K6050PuH_V3J",
        "outputId": "25b06010-5719-4cff-84a9-0498a649c7c3",
        "colab": {
          "base_uri": "https://localhost:8080/"
        }
      },
      "source": [
        "a_list = [1, 1, 2, 2, 3]\n",
        "print(a_list)\n",
        "\n",
        "a_set = set(a_list)\n",
        "print(a_set)\n",
        "\n",
        "number_of_unique_items = len(a_set)\n",
        "print(number_of_unique_items)"
      ],
      "execution_count": 27,
      "outputs": [
        {
          "output_type": "stream",
          "text": [
            "[1, 1, 2, 2, 3]\n",
            "{1, 2, 3}\n",
            "3\n"
          ],
          "name": "stdout"
        }
      ]
    }
  ]
}