{
  "nbformat": 4,
  "nbformat_minor": 0,
  "metadata": {
    "colab": {
      "name": "Untitled",
      "provenance": [],
      "authorship_tag": "ABX9TyOYOhCtb9KUb4S1GQHZKVMr",
      "include_colab_link": true
    },
    "kernelspec": {
      "name": "python3",
      "display_name": "Python 3"
    }
  },
  "cells": [
    {
      "cell_type": "markdown",
      "metadata": {
        "id": "view-in-github",
        "colab_type": "text"
      },
      "source": [
        "<a href=\"https://colab.research.google.com/github/pathansayama/LetsUpgrade-DataScience-SayamaPathan-Batch1/blob/main/Assignment1.ipynb\" target=\"_parent\"><img src=\"https://colab.research.google.com/assets/colab-badge.svg\" alt=\"Open In Colab\"/></a>"
      ]
    },
    {
      "cell_type": "markdown",
      "metadata": {
        "id": "RFIdu_IpJmfh"
      },
      "source": [
        "Assignment 1"
      ]
    },
    {
      "cell_type": "code",
      "metadata": {
        "id": "xjVXAmscCpMu",
        "outputId": "c7b91e9b-b883-4616-dbba-9228b2e0c4e1",
        "colab": {
          "base_uri": "https://localhost:8080/"
        }
      },
      "source": [
        "\n",
        "import random\n",
        "WORDS = (\"python\", \"jumble\", \"easy\", \"difficult\", \"answer\", \"xylophone\")          \n",
        "  \n",
        "word = random.choice(WORDS)\n",
        "correct = word\n",
        "\n",
        "jumble =\"\"\n",
        " \n",
        "while word:\n",
        "  position = random.randrange(len(word))\n",
        "  jumble += word[position]\n",
        "  word = word[:position] + word[(position + 1):]\n",
        "\n",
        "print(\"The jumble is:\"+jumble)\n",
        "\n",
        "guess = input(\"\\nYour guess: \")\n",
        "guess = guess.lower()\n",
        "lst = range(len(jumble))\n",
        "hint_str = '_'*len(jumble)\n",
        "\n",
        "if guess == correct:\n",
        "  print(\"That's it! You guessed it!\")\n",
        "\n",
        "else:\n",
        "  print(\"Sorry! Wrong Guess!!!\")"
      ],
      "execution_count": 7,
      "outputs": [
        {
          "output_type": "stream",
          "text": [
            "The jumble is:lonephoxy\n",
            "\n",
            "Your guess: xylophone\n",
            "That's it! You guessed it!\n"
          ],
          "name": "stdout"
        }
      ]
    },
    {
      "cell_type": "markdown",
      "metadata": {
        "id": "uPSIsL9ZKCQl"
      },
      "source": [
        "2. Write a program which prints \"Letsupgrade\".\n"
      ]
    },
    {
      "cell_type": "code",
      "metadata": {
        "id": "WKBaZOIzKuLr",
        "outputId": "d25ee639-5e9d-4593-ad50-29d154b1e989",
        "colab": {
          "base_uri": "https://localhost:8080/"
        }
      },
      "source": [
        "a = \"Lets Upgrade\"\n",
        "st = a.upper()\n",
        "print(st)"
      ],
      "execution_count": 9,
      "outputs": [
        {
          "output_type": "stream",
          "text": [
            "LETS UPGRADE\n"
          ],
          "name": "stdout"
        }
      ]
    },
    {
      "cell_type": "markdown",
      "metadata": {
        "id": "WVbL2t4MLRx_"
      },
      "source": [
        "Write a program that takes cost price and selling price as input and display whether the transactionis a Profit or a loss or neither."
      ]
    },
    {
      "cell_type": "code",
      "metadata": {
        "id": "0LfHe8BUMRzG",
        "outputId": "c78d0ad7-95ea-4134-a5a4-ea9d0a0ad911",
        "colab": {
          "base_uri": "https://localhost:8080/"
        }
      },
      "source": [
        "cp = int(input(\"Enter Cost Price = \"))\n",
        "sp = int(input(\"Enter Selling Price =\"))\n",
        "\n",
        "print(cp)\n",
        "print(sp)\n",
        "\n",
        "if sp > cp :\n",
        "  print(\"You are in Profit\")\n",
        "elif cp > sp :\n",
        "  print(\"You are in Loss\")\n",
        "else :\n",
        "  print(\"You are neither in Profit nor in Loss\")"
      ],
      "execution_count": 12,
      "outputs": [
        {
          "output_type": "stream",
          "text": [
            "Enter Cost Price = 10\n",
            "Enter Selling Price =20\n",
            "10\n",
            "20\n",
            "You are in Profit\n"
          ],
          "name": "stdout"
        }
      ]
    },
    {
      "cell_type": "markdown",
      "metadata": {
        "id": "mAJMlNhDSqvC"
      },
      "source": [
        "write a program to convert currency from Euros to Inr. "
      ]
    },
    {
      "cell_type": "code",
      "metadata": {
        "id": "4TOqfUAKTl1L"
      },
      "source": [
        "euro = int(input(\"€ \"))\n",
        "inr = 80\n",
        "total = euro*inr\n",
        "print(\"The Value of EURO into INR = \"+total) "
      ],
      "execution_count": null,
      "outputs": []
    }
  ]
}